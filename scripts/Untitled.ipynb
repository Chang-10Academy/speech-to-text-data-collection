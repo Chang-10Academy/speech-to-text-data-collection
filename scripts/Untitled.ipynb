{
 "cells": [
  {
   "cell_type": "code",
   "execution_count": 7,
   "metadata": {},
   "outputs": [
    {
     "ename": "SyntaxError",
     "evalue": "invalid syntax (simple.py, line 54)",
     "output_type": "error",
     "traceback": [
      "Traceback \u001b[1;36m(most recent call last)\u001b[0m:\n",
      "  File \u001b[0;32m\"C:\\Users\\Betelhem\\anaconda3\\lib\\site-packages\\IPython\\core\\interactiveshell.py\"\u001b[0m, line \u001b[0;32m3441\u001b[0m, in \u001b[0;35mrun_code\u001b[0m\n    exec(code_obj, self.user_global_ns, self.user_ns)\n",
      "  File \u001b[0;32m\"<ipython-input-7-7d74a68c28aa>\"\u001b[0m, line \u001b[0;32m1\u001b[0m, in \u001b[0;35m<module>\u001b[0m\n    from kafka import KafkaProducer\n",
      "  File \u001b[0;32m\"C:\\Users\\Betelhem\\anaconda3\\lib\\site-packages\\kafka\\__init__.py\"\u001b[0m, line \u001b[0;32m23\u001b[0m, in \u001b[0;35m<module>\u001b[0m\n    from kafka.producer import KafkaProducer\n",
      "\u001b[1;36m  File \u001b[1;32m\"C:\\Users\\Betelhem\\anaconda3\\lib\\site-packages\\kafka\\producer\\__init__.py\"\u001b[1;36m, line \u001b[1;32m4\u001b[1;36m, in \u001b[1;35m<module>\u001b[1;36m\u001b[0m\n\u001b[1;33m    from .simple import SimpleProducer\u001b[0m\n",
      "\u001b[1;36m  File \u001b[1;32m\"C:\\Users\\Betelhem\\anaconda3\\lib\\site-packages\\kafka\\producer\\simple.py\"\u001b[1;36m, line \u001b[1;32m54\u001b[0m\n\u001b[1;33m    return '<SimpleProducer batch=%s>' % self.async\u001b[0m\n\u001b[1;37m                                              ^\u001b[0m\n\u001b[1;31mSyntaxError\u001b[0m\u001b[1;31m:\u001b[0m invalid syntax\n"
     ]
    }
   ],
   "source": [
    "from kafka import KafkaProducer\n",
    "# import json\n",
    "# from data import get_registered_user\n",
    "# import time\n",
    "\n",
    "\n",
    "# def json_serializer(data):\n",
    "#     return json.dumps(data).encode(\"utf-8\")\n",
    "\n",
    "\n",
    "# producer = KafkaProducer(bootstrap_servers=['192.168.0.10:9092'],\n",
    "#                          value_serializer=json_serializer)\n",
    "\n",
    "# if __name__ == \"__main__\":\n",
    "#     while 1 == 1:\n",
    "#         registered_user = get_registered_user()\n",
    "#         print(registered_user)\n",
    "#         producer.send(\"registered_user\", registered_user)\n",
    "#         time.sleep(4)"
   ]
  },
  {
   "cell_type": "code",
   "execution_count": 4,
   "metadata": {},
   "outputs": [
    {
     "name": "stdout",
     "output_type": "stream",
     "text": [
      "Collecting kafka\n",
      "  Downloading kafka-1.3.5-py2.py3-none-any.whl (207 kB)\n",
      "Installing collected packages: kafka\n",
      "Successfully installed kafka-1.3.5\n"
     ]
    }
   ],
   "source": [
    "!pip install kafka"
   ]
  }
 ],
 "metadata": {
  "kernelspec": {
   "display_name": "Python 3",
   "language": "python",
   "name": "python3"
  },
  "language_info": {
   "codemirror_mode": {
    "name": "ipython",
    "version": 3
   },
   "file_extension": ".py",
   "mimetype": "text/x-python",
   "name": "python",
   "nbconvert_exporter": "python",
   "pygments_lexer": "ipython3",
   "version": "3.8.5"
  }
 },
 "nbformat": 4,
 "nbformat_minor": 4
}
