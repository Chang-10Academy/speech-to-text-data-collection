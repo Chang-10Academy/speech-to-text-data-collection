{
 "cells": [
  {
   "cell_type": "code",
   "execution_count": 1,
   "id": "be7d69aa-dbfa-4e70-9d3c-cebb98f8356b",
   "metadata": {},
   "outputs": [],
   "source": [
    "import os\n",
    "from dataProd1 import readData\n",
    "path  = str(os.path.abspath(os.path.join('../../data/preprocessed')))\n",
    "from kafka import KafkaProducer\n",
    "import json\n",
    "import pandas as pd\n",
    "\n"
   ]
  },
  {
   "cell_type": "code",
   "execution_count": 2,
   "id": "71e66927-2043-4a3c-9f0c-eeeb9d75b6b9",
   "metadata": {},
   "outputs": [
    {
     "data": {
      "text/html": [
       "<div>\n",
       "<style scoped>\n",
       "    .dataframe tbody tr th:only-of-type {\n",
       "        vertical-align: middle;\n",
       "    }\n",
       "\n",
       "    .dataframe tbody tr th {\n",
       "        vertical-align: top;\n",
       "    }\n",
       "\n",
       "    .dataframe thead th {\n",
       "        text-align: right;\n",
       "    }\n",
       "</style>\n",
       "<table border=\"1\" class=\"dataframe\">\n",
       "  <thead>\n",
       "    <tr style=\"text-align: right;\">\n",
       "      <th></th>\n",
       "      <th>text</th>\n",
       "      <th>length</th>\n",
       "    </tr>\n",
       "  </thead>\n",
       "  <tbody>\n",
       "    <tr>\n",
       "      <th>0</th>\n",
       "      <td>አገራችን ከአፍሪካም ሆነ ከሌሎች የአለም አገራት ጋር ያላትን አለም አቀፋ...</td>\n",
       "      <td>91</td>\n",
       "    </tr>\n",
       "    <tr>\n",
       "      <th>1</th>\n",
       "      <td>ጀልባያውም የወረቀት\\n</td>\n",
       "      <td>13</td>\n",
       "    </tr>\n",
       "    <tr>\n",
       "      <th>2</th>\n",
       "      <td>እግዚአብሄርን ስናመልከው ከሁኔታችን እንወጣለን\\n</td>\n",
       "      <td>30</td>\n",
       "    </tr>\n",
       "    <tr>\n",
       "      <th>3</th>\n",
       "      <td>ጥሩ የሚሆነው የለም እንዲያ አይደለም ተሳስተሀል ተብዬ የናንተን ደግሞ ባ...</td>\n",
       "      <td>103</td>\n",
       "    </tr>\n",
       "    <tr>\n",
       "      <th>4</th>\n",
       "      <td>00 ክሳብ 12\\n</td>\n",
       "      <td>10</td>\n",
       "    </tr>\n",
       "    <tr>\n",
       "      <th>...</th>\n",
       "      <td>...</td>\n",
       "      <td>...</td>\n",
       "    </tr>\n",
       "    <tr>\n",
       "      <th>5162605</th>\n",
       "      <td>ሀሳብን በነፃነት የመግለፅ ህገ መንግስታዊ መብቴን መተግበር\\n</td>\n",
       "      <td>38</td>\n",
       "    </tr>\n",
       "    <tr>\n",
       "      <th>5162606</th>\n",
       "      <td>እንደሚባለው አይነት ከመጀመሪያው ስህተት ወደ ሁለተኛው ተሸጋገረ የእስራኤ...</td>\n",
       "      <td>116</td>\n",
       "    </tr>\n",
       "    <tr>\n",
       "      <th>5162607</th>\n",
       "      <td>አዲስ አበባ መስከረም 21 ቀን 2007 አም ሀይለማርያም ደሳለኝ የኢትዮጵ...</td>\n",
       "      <td>1000</td>\n",
       "    </tr>\n",
       "    <tr>\n",
       "      <th>5162608</th>\n",
       "      <td>ስልት ነበር እድሜ ልካቸውን ሲጠቀሙብን የኖሩት እንደ እውነቱ ከሆነ ግብፅ...</td>\n",
       "      <td>103</td>\n",
       "    </tr>\n",
       "    <tr>\n",
       "      <th>5162609</th>\n",
       "      <td>ኢንተርኔት ስጠቀም በእፅ የመረቀንኩ ያህል ሆኖ ይሰማኝ ነበር ብሏል\\n</td>\n",
       "      <td>43</td>\n",
       "    </tr>\n",
       "  </tbody>\n",
       "</table>\n",
       "<p>5162610 rows × 2 columns</p>\n",
       "</div>"
      ],
      "text/plain": [
       "                                                      text  length\n",
       "0        አገራችን ከአፍሪካም ሆነ ከሌሎች የአለም አገራት ጋር ያላትን አለም አቀፋ...      91\n",
       "1                                           ጀልባያውም የወረቀት\\n      13\n",
       "2                          እግዚአብሄርን ስናመልከው ከሁኔታችን እንወጣለን\\n      30\n",
       "3        ጥሩ የሚሆነው የለም እንዲያ አይደለም ተሳስተሀል ተብዬ የናንተን ደግሞ ባ...     103\n",
       "4                                              00 ክሳብ 12\\n      10\n",
       "...                                                    ...     ...\n",
       "5162605            ሀሳብን በነፃነት የመግለፅ ህገ መንግስታዊ መብቴን መተግበር\\n      38\n",
       "5162606  እንደሚባለው አይነት ከመጀመሪያው ስህተት ወደ ሁለተኛው ተሸጋገረ የእስራኤ...     116\n",
       "5162607  አዲስ አበባ መስከረም 21 ቀን 2007 አም ሀይለማርያም ደሳለኝ የኢትዮጵ...    1000\n",
       "5162608  ስልት ነበር እድሜ ልካቸውን ሲጠቀሙብን የኖሩት እንደ እውነቱ ከሆነ ግብፅ...     103\n",
       "5162609       ኢንተርኔት ስጠቀም በእፅ የመረቀንኩ ያህል ሆኖ ይሰማኝ ነበር ብሏል\\n      43\n",
       "\n",
       "[5162610 rows x 2 columns]"
      ]
     },
     "execution_count": 2,
     "metadata": {},
     "output_type": "execute_result"
    }
   ],
   "source": [
    "pd.read_csv('../../data/text.csv')"
   ]
  },
  {
   "cell_type": "code",
   "execution_count": null,
   "id": "c0ee5be1-accc-471f-bf15-5e4a4576b102",
   "metadata": {},
   "outputs": [],
   "source": [
    "len(readData(path, 1, 3))"
   ]
  },
  {
   "cell_type": "code",
   "execution_count": null,
   "id": "8ad030f2-395f-43a6-8a18-7336ca8bf63b",
   "metadata": {},
   "outputs": [],
   "source": [
    "def create_bucker"
   ]
  },
  {
   "cell_type": "code",
   "execution_count": null,
   "id": "08a0cb22-9bd4-4559-9c43-da411d8d93bd",
   "metadata": {},
   "outputs": [],
   "source": [
    "!pip3 install kafka-python --user"
   ]
  },
  {
   "cell_type": "code",
   "execution_count": null,
   "id": "cdb5eeb7-194b-4121-9ae4-50fccf5678b0",
   "metadata": {},
   "outputs": [],
   "source": [
    "def json_serializer(data):\n",
    "    return json.dumps(data).encode(\"utf-8\")"
   ]
  },
  {
   "cell_type": "code",
   "execution_count": null,
   "id": "ea3e0b63-e60b-4085-bff2-46b28bf77b63",
   "metadata": {},
   "outputs": [],
   "source": [
    "cloud_boostrap_server_address1 = \"b-1.demo-cluster-1.9q7lp7.c1.kafka.eu-west-1.amazonaws.com:9092\"\n",
    "local_boostrap_server_address = 'localhost:9093'\n",
    "\n",
    "\n",
    "producer = KafkaProducer(bootstrap_servers=[cloud_boostrap_server_address1],\n",
    "                         value_serializer=json_serializer)"
   ]
  },
  {
   "cell_type": "code",
   "execution_count": null,
   "id": "d1f5e2f9-ec79-425b-9108-681ef47a72d5",
   "metadata": {},
   "outputs": [],
   "source": [
    "TOPIC_NAME = \"test_topic2_dan\""
   ]
  },
  {
   "cell_type": "code",
   "execution_count": null,
   "id": "a87292a6-3d26-4063-9ebe-bf61865f1da8",
   "metadata": {},
   "outputs": [],
   "source": [
    "from kafka.admin import KafkaAdminClient, NewTopic\n",
    "admin_client = KafkaAdminClient(bootstrap_servers=cloud_boostrap_server_address1, client_id='group_dan_1')\n",
    "\n",
    "topic_list = []\n",
    "topic_list.append(NewTopic(name=TOPIC_NAME, num_partitions=1, replication_factor=2))"
   ]
  },
  {
   "cell_type": "code",
   "execution_count": null,
   "id": "2b1d62db-c8db-4bbf-b142-dd525d859819",
   "metadata": {},
   "outputs": [],
   "source": [
    "topic_list"
   ]
  },
  {
   "cell_type": "code",
   "execution_count": null,
   "id": "efec5975-63e6-4120-acb0-257abc45718d",
   "metadata": {},
   "outputs": [],
   "source": [
    "i = 1"
   ]
  },
  {
   "cell_type": "code",
   "execution_count": null,
   "id": "18026399-c143-4814-b5c3-a125d2565a19",
   "metadata": {},
   "outputs": [],
   "source": [
    "admin_client.create_topics(new_topics=topic_list, validate_only=False)"
   ]
  },
  {
   "cell_type": "code",
   "execution_count": null,
   "id": "2ab564f8-575f-4227-905c-a4a7c0ce6cdd",
   "metadata": {},
   "outputs": [],
   "source": [
    "producer.send(TOPIC_NAME, i)"
   ]
  },
  {
   "cell_type": "code",
   "execution_count": null,
   "id": "3156dced-b406-4325-ab1c-58c18111b45f",
   "metadata": {},
   "outputs": [],
   "source": [
    "admin_client.list_topics()"
   ]
  },
  {
   "cell_type": "code",
   "execution_count": null,
   "id": "43193a25-c6aa-4b9f-a374-54b4d505d2d6",
   "metadata": {},
   "outputs": [],
   "source": [
    "import time\n",
    "while True:\n",
    "    n = random.randint(0, 100)\n",
    "    producer.send(TOPIC_NAME, n)\n",
    "    time.sleep(2)\n",
    "    "
   ]
  },
  {
   "cell_type": "code",
   "execution_count": null,
   "id": "f8e5aa48-44cd-40c4-954a-9eb56798824a",
   "metadata": {},
   "outputs": [],
   "source": []
  }
 ],
 "metadata": {
  "kernelspec": {
   "display_name": "Python 3 (ipykernel)",
   "language": "python",
   "name": "python3"
  },
  "language_info": {
   "codemirror_mode": {
    "name": "ipython",
    "version": 3
   },
   "file_extension": ".py",
   "mimetype": "text/x-python",
   "name": "python",
   "nbconvert_exporter": "python",
   "pygments_lexer": "ipython3",
   "version": "3.9.5"
  }
 },
 "nbformat": 4,
 "nbformat_minor": 5
}
